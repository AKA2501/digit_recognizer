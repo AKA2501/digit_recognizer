{
  "nbformat": 4,
  "nbformat_minor": 0,
  "metadata": {
    "colab": {
      "name": "Handwrittendigitrecognizer.ipynb",
      "provenance": []
    },
    "kernelspec": {
      "name": "python3",
      "display_name": "Python 3"
    }
  },
  "cells": [
    {
      "cell_type": "code",
      "metadata": {
        "id": "JGTfFKaltn-i",
        "outputId": "24855abc-f821-4729-8c63-f488ce5648a7",
        "colab": {
          "base_uri": "https://localhost:8080/",
          "height": 391
        }
      },
      "source": [
        "#importing tensorflow  \n",
        "#putting the data of handwritten digits into the variable dataset\n",
        "import tensorflow as tf\n",
        "\n",
        "#putting the data of handwritten digits into the variable dataset\n",
        "dataset = tf.keras.datasets.mnist\n",
        "\n",
        "#setting the data to the different kinds of inputs required training and testing the model\n",
        "(inputs, targets),(test_input,test_target) = dataset.load_data()\n",
        "\n",
        "#CREATING MODEL START\n",
        "#flatten layer is flattening the model to take the whole picture as 1 input\n",
        "#dense layer is for input and output\n",
        "#dropout layer  randomly sets input units to 0 with a frequency of rate at each step\n",
        "model = tf.keras.models.Sequential([\n",
        "  tf.keras.layers.Flatten(input_shape=(28, 28)),\n",
        "  tf.keras.layers.Dense(160, batch_size=10, activation='relu'),\n",
        "  tf.keras.layers.Dropout(0.2),\n",
        "  tf.keras.layers.Dense(10, activation='softmax')\n",
        "])\n",
        "#CREATING MODEL END\n",
        "\n",
        "\n",
        "#COMPILING Start\n",
        "# model  is using the optimizer adam and a loss function \"sparse categorical crossentropy\"\n",
        "model.compile(optimizer='adam',\n",
        "              loss='sparse_categorical_crossentropy',\n",
        "              metrics=['accuracy'])\n",
        "#COMPILING end\n",
        "\n",
        "\n",
        "#TRAINING start\n",
        "#inputs & targets are the training data and labels\n",
        "#epoch is the repetition of the data sent for training\n",
        "#batch size is the amount of parts the data is divided into\n",
        "#validation split is to check the training side by side \n",
        "#shuffle is for the data to be shuffled so that it recognizes pattern\n",
        "#verbose is the pattern for training\n",
        "model.fit(inputs,targets, epochs=10, batch_size=20, validation_split=0.2, shuffle=True, verbose=1)\n",
        "#TRAINING end\n",
        "\n",
        "\n",
        "#Testing start\n",
        "#evaluating the model on testing data\n",
        "model.evaluate(test_input,test_target)\n",
        "#Testing end"
      ],
      "execution_count": 6,
      "outputs": [
        {
          "output_type": "stream",
          "text": [
            "Epoch 1/10\n",
            "2400/2400 [==============================] - 5s 2ms/step - loss: 2.5486 - accuracy: 0.7746 - val_loss: 0.5276 - val_accuracy: 0.8763\n",
            "Epoch 2/10\n",
            "2400/2400 [==============================] - 5s 2ms/step - loss: 0.6180 - accuracy: 0.8409 - val_loss: 0.4464 - val_accuracy: 0.8921\n",
            "Epoch 3/10\n",
            "2400/2400 [==============================] - 5s 2ms/step - loss: 0.5198 - accuracy: 0.8670 - val_loss: 0.3434 - val_accuracy: 0.9236\n",
            "Epoch 4/10\n",
            "2400/2400 [==============================] - 5s 2ms/step - loss: 0.4727 - accuracy: 0.8785 - val_loss: 0.4080 - val_accuracy: 0.9168\n",
            "Epoch 5/10\n",
            "2400/2400 [==============================] - 5s 2ms/step - loss: 0.4422 - accuracy: 0.8885 - val_loss: 0.3424 - val_accuracy: 0.9345\n",
            "Epoch 6/10\n",
            "2400/2400 [==============================] - 5s 2ms/step - loss: 0.4228 - accuracy: 0.8952 - val_loss: 0.2768 - val_accuracy: 0.9352\n",
            "Epoch 7/10\n",
            "2400/2400 [==============================] - 5s 2ms/step - loss: 0.4096 - accuracy: 0.8979 - val_loss: 0.2702 - val_accuracy: 0.9396\n",
            "Epoch 8/10\n",
            "2400/2400 [==============================] - 5s 2ms/step - loss: 0.3781 - accuracy: 0.9051 - val_loss: 0.2951 - val_accuracy: 0.9368\n",
            "Epoch 9/10\n",
            "2400/2400 [==============================] - 5s 2ms/step - loss: 0.3979 - accuracy: 0.9032 - val_loss: 0.3418 - val_accuracy: 0.9362\n",
            "Epoch 10/10\n",
            "2400/2400 [==============================] - 5s 2ms/step - loss: 0.3824 - accuracy: 0.9060 - val_loss: 0.2929 - val_accuracy: 0.9419\n",
            "313/313 [==============================] - 0s 1ms/step - loss: 0.3354 - accuracy: 0.9393\n"
          ],
          "name": "stdout"
        },
        {
          "output_type": "execute_result",
          "data": {
            "text/plain": [
              "[0.3353559374809265, 0.939300000667572]"
            ]
          },
          "metadata": {
            "tags": []
          },
          "execution_count": 6
        }
      ]
    },
    {
      "cell_type": "code",
      "metadata": {
        "id": "qiKAHshVe2t4"
      },
      "source": [
        ""
      ],
      "execution_count": null,
      "outputs": []
    }
  ]
}