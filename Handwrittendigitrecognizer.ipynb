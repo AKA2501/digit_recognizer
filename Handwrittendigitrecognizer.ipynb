{
  "nbformat": 4,
  "nbformat_minor": 0,
  "metadata": {
    "colab": {
      "name": "Handwrittendigitrecognizer.ipynb",
      "provenance": []
    },
    "kernelspec": {
      "name": "python3",
      "display_name": "Python 3"
    }
  },
  "cells": [
    {
      "cell_type": "code",
      "metadata": {
        "id": "JGTfFKaltn-i",
        "outputId": "ca648dbb-d980-4ba6-8ba8-fe0400fb8dcd",
        "colab": {
          "base_uri": "https://localhost:8080/",
          "height": 391
        }
      },
      "source": [
        "#importing tensorflow  #putting the data of handwritten digits into the variable dataset\n",
        "import tensorflow as tf\n",
        "\n",
        "#putting the data of handwritten digits into the variable dataset\n",
        "dataset = tf.keras.datasets.mnist\n",
        "\n",
        "#setting the data to the different kinds of inputs required training and testing the model\n",
        "(inputs, targets),(test_input,test_target) = dataset.load_data()\n",
        "\n",
        "#CREATING MODEL START\n",
        "#flatten layer is flattening the model to take the whole picture as 1 input\n",
        "#dense layer is for input and output\n",
        "#dropout layer  randomly sets input units to 0 with a frequency of rate at each step\n",
        "model = tf.keras.models.Sequential([\n",
        "  tf.keras.layers.Flatten(input_shape=(28, 28)),\n",
        "  tf.keras.layers.Dense(128, batch_size=10, activation='relu'),\n",
        "  tf.keras.layers.Dropout(0.2),\n",
        "  tf.keras.layers.Dense(10, activation='softmax')\n",
        "])\n",
        "#CREATING MODEL END\n",
        "\n",
        "\n",
        "#COMPILING Start\n",
        "# model  is using the optimizer adam and a loss function \"sparse categorical crossentropy\"\n",
        "model.compile(optimizer='adam',\n",
        "              loss='sparse_categorical_crossentropy',\n",
        "              metrics=['accuracy'])\n",
        "#COMPILING end\n",
        "\n",
        "\n",
        "#TRAINING start\n",
        "#inputs & targets are the training data and labels\n",
        "#epoch is the repetition of the data sent for training\n",
        "#batch size is the amount of parts the data is divided into\n",
        "#validation split is to check the training side by side \n",
        "#shuffle is for the data to be shuffled so that it recognizes pattern\n",
        "#verbose is the pattern for training\n",
        "model.fit(inputs,targets, epochs=10, batch_size=10, validation_split=0.3, shuffle=True, verbose=2)\n",
        "#TRAINING end\n",
        "\n",
        "\n",
        "#Testing start\n",
        "#evaluating the model on testing data\n",
        "model.evaluate(test_input,test_target)\n",
        "#Testing end"
      ],
      "execution_count": 4,
      "outputs": [
        {
          "output_type": "stream",
          "text": [
            "Epoch 1/10\n",
            "4200/4200 - 6s - loss: 2.3756 - accuracy: 0.7200 - val_loss: 0.6082 - val_accuracy: 0.8677\n",
            "Epoch 2/10\n",
            "4200/4200 - 6s - loss: 0.7456 - accuracy: 0.8071 - val_loss: 0.4627 - val_accuracy: 0.8773\n",
            "Epoch 3/10\n",
            "4200/4200 - 6s - loss: 0.6302 - accuracy: 0.8364 - val_loss: 0.3889 - val_accuracy: 0.9162\n",
            "Epoch 4/10\n",
            "4200/4200 - 6s - loss: 0.6100 - accuracy: 0.8507 - val_loss: 0.4642 - val_accuracy: 0.9148\n",
            "Epoch 5/10\n",
            "4200/4200 - 7s - loss: 0.5658 - accuracy: 0.8623 - val_loss: 0.3820 - val_accuracy: 0.9208\n",
            "Epoch 6/10\n",
            "4200/4200 - 7s - loss: 0.5459 - accuracy: 0.8661 - val_loss: 0.4028 - val_accuracy: 0.9184\n",
            "Epoch 7/10\n",
            "4200/4200 - 6s - loss: 0.5378 - accuracy: 0.8718 - val_loss: 0.5176 - val_accuracy: 0.9163\n",
            "Epoch 8/10\n",
            "4200/4200 - 6s - loss: 0.5198 - accuracy: 0.8747 - val_loss: 0.4401 - val_accuracy: 0.9144\n",
            "Epoch 9/10\n",
            "4200/4200 - 6s - loss: 0.5255 - accuracy: 0.8771 - val_loss: 0.4325 - val_accuracy: 0.9162\n",
            "Epoch 10/10\n",
            "4200/4200 - 6s - loss: 0.5109 - accuracy: 0.8816 - val_loss: 0.4580 - val_accuracy: 0.9204\n",
            "313/313 [==============================] - 0s 1ms/step - loss: 0.4332 - accuracy: 0.9203\n"
          ],
          "name": "stdout"
        },
        {
          "output_type": "execute_result",
          "data": {
            "text/plain": [
              "[0.43320947885513306, 0.9203000068664551]"
            ]
          },
          "metadata": {
            "tags": []
          },
          "execution_count": 4
        }
      ]
    }
  ]
}