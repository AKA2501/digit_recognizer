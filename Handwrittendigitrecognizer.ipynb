{
  "nbformat": 4,
  "nbformat_minor": 0,
  "metadata": {
    "colab": {
      "name": "Handwrittendigitrecognizer.ipynb",
      "provenance": []
    },
    "kernelspec": {
      "name": "python3",
      "display_name": "Python 3"
    }
  },
  "cells": [
    {
      "cell_type": "code",
      "metadata": {
        "id": "JGTfFKaltn-i",
        "outputId": "15432911-9d2d-44f8-ddbc-7e886c93fba9",
        "colab": {
          "base_uri": "https://localhost:8080/",
          "height": 391
        }
      },
      "source": [
        "#importing tensorflow  \n",
        "#putting the data of handwritten digits into the variable dataset\n",
        "import tensorflow as tf\n",
        "\n",
        "#putting the data of handwritten digits into the variable dataset\n",
        "dataset = tf.keras.datasets.mnist\n",
        "\n",
        "#setting the data to the different kinds of inputs required training and testing the model\n",
        "(inputs, targets),(test_input,test_target) = dataset.load_data()\n",
        "\n",
        "#CREATING MODEL START\n",
        "#flatten layer is flattening the model to take the whole picture as 1 input\n",
        "#dense layer is for input and output\n",
        "#dropout layer  randomly sets input units to 0 with a frequency of rate at each step\n",
        "model = tf.keras.models.Sequential([\n",
        "  tf.keras.layers.Flatten(input_shape=(28, 28)),\n",
        "  tf.keras.layers.Dense(256, batch_size=10, activation='relu'),\n",
        "  tf.keras.layers.Dropout(0.1),\n",
        "  tf.keras.layers.Dense(128, batch_size=10, activation='relu'),\n",
        "  tf.keras.layers.Dropout(0.1),\n",
        "  tf.keras.layers.Dense(128, batch_size=10, activation='relu'),\n",
        "  tf.keras.layers.Dropout(0.1),\n",
        "  tf.keras.layers.Dense(10, activation='softmax')\n",
        "])\n",
        "#CREATING MODEL END\n",
        "\n",
        "\n",
        "#COMPILING Start\n",
        "# model  is using the optimizer adam and a loss function \"sparse categorical crossentropy\"\n",
        "model.compile(optimizer='adam',\n",
        "              loss='sparse_categorical_crossentropy',\n",
        "              metrics=['accuracy'])\n",
        "#COMPILING end\n",
        "\n",
        "\n",
        "#TRAINING start\n",
        "#inputs & targets are the training data and labels\n",
        "#epoch is the repetition of the data sent for training\n",
        "#batch size is the amount of parts the data is divided into\n",
        "#validation split is to check the training side by side \n",
        "#shuffle is for the data to be shuffled so that it recognizes pattern\n",
        "#verbose is the pattern for training\n",
        "model.fit(inputs,targets, epochs=10, batch_size=20, validation_split=0.2, shuffle=True, verbose=1)\n",
        "#TRAINING end\n",
        "\n",
        "\n",
        "#Testing start\n",
        "#evaluating the model on testing data\n",
        "model.evaluate(test_input,test_target)\n",
        "#Testing end"
      ],
      "execution_count": null,
      "outputs": [
        {
          "output_type": "stream",
          "text": [
            "Epoch 1/10\n",
            "2400/2400 [==============================] - 8s 3ms/step - loss: 1.5503 - accuracy: 0.7984 - val_loss: 0.3050 - val_accuracy: 0.9220\n",
            "Epoch 2/10\n",
            "2400/2400 [==============================] - 8s 3ms/step - loss: 0.3862 - accuracy: 0.8976 - val_loss: 0.2125 - val_accuracy: 0.9420\n",
            "Epoch 3/10\n",
            "2400/2400 [==============================] - 7s 3ms/step - loss: 0.2664 - accuracy: 0.9294 - val_loss: 0.1945 - val_accuracy: 0.9480\n",
            "Epoch 4/10\n",
            "2400/2400 [==============================] - 7s 3ms/step - loss: 0.2279 - accuracy: 0.9401 - val_loss: 0.1621 - val_accuracy: 0.9571\n",
            "Epoch 5/10\n",
            "2400/2400 [==============================] - 7s 3ms/step - loss: 0.2059 - accuracy: 0.9465 - val_loss: 0.1846 - val_accuracy: 0.9557\n",
            "Epoch 6/10\n",
            "2400/2400 [==============================] - 7s 3ms/step - loss: 0.1979 - accuracy: 0.9498 - val_loss: 0.1628 - val_accuracy: 0.9592\n",
            "Epoch 7/10\n",
            "2400/2400 [==============================] - 7s 3ms/step - loss: 0.1757 - accuracy: 0.9559 - val_loss: 0.1686 - val_accuracy: 0.9588\n",
            "Epoch 8/10\n",
            "2400/2400 [==============================] - 7s 3ms/step - loss: 0.1751 - accuracy: 0.9575 - val_loss: 0.1600 - val_accuracy: 0.9587\n",
            "Epoch 9/10\n",
            "2400/2400 [==============================] - 7s 3ms/step - loss: 0.1568 - accuracy: 0.9608 - val_loss: 0.1546 - val_accuracy: 0.9620\n",
            "Epoch 10/10\n",
            "2400/2400 [==============================] - 7s 3ms/step - loss: 0.1463 - accuracy: 0.9639 - val_loss: 0.1443 - val_accuracy: 0.9695\n",
            "313/313 [==============================] - 0s 2ms/step - loss: 0.1388 - accuracy: 0.9723\n"
          ],
          "name": "stdout"
        },
        {
          "output_type": "execute_result",
          "data": {
            "text/plain": [
              "[0.13875335454940796, 0.9722999930381775]"
            ]
          },
          "metadata": {
            "tags": []
          },
          "execution_count": 4
        }
      ]
    }
  ]
}